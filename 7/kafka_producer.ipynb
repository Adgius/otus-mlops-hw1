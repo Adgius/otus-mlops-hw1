{
  "nbformat": 4,
  "nbformat_minor": 0,
  "metadata": {
    "colab": {
      "provenance": []
    },
    "kernelspec": {
      "name": "python3",
      "display_name": "Python 3"
    },
    "language_info": {
      "name": "python"
    }
  },
  "cells": [
    {
      "cell_type": "code",
      "source": [
        "!sudo apt update && sudo apt install --yes python3 python3-pip libsnappy-dev && \\\n",
        "pip3 install kafka-python lz4 python-snappy crc32c"
      ],
      "metadata": {
        "id": "gqafIBKZXX6e"
      },
      "execution_count": null,
      "outputs": []
    },
    {
      "cell_type": "code",
      "source": [
        "import numpy as np\n",
        "\n",
        "def data_generator():\n",
        "    a = np.random.normal(loc=1, scale=2)\n",
        "    b = np.random.normal(loc=-1, scale=2)\n",
        "    c = np.random.normal(loc=5, scale=2)\n",
        "    x1 = np.random.randint(-100, 100)\n",
        "    x2 = np.random.randint(-100, 100)\n",
        "    x3 = np.random.randint(-100, 100)\n",
        "    return {'X': [2 * (a + x1), 3 * (b + x2), x3], 'y': x1 + x2 + x3}\n",
        "\n",
        "data_generator()"
      ],
      "metadata": {
        "colab": {
          "base_uri": "https://localhost:8080/"
        },
        "id": "ddnzI3cxIQHi",
        "outputId": "a61c7e40-f872-4d7f-b745-58870ab4996c"
      },
      "execution_count": 5,
      "outputs": [
        {
          "output_type": "execute_result",
          "data": {
            "text/plain": [
              "{'X': [0.015387396229171069, -231.31426163510656, 66], 'y': -11}"
            ]
          },
          "metadata": {},
          "execution_count": 5
        }
      ]
    },
    {
      "cell_type": "code",
      "source": [
        "bootstrap_server = ['...:9092']\n",
        "topic = 'train'\n",
        "group_id = '1'"
      ],
      "metadata": {
        "id": "rZ9pxgFzca-C"
      },
      "execution_count": 2,
      "outputs": []
    },
    {
      "cell_type": "code",
      "source": [
        "from typing import Dict, NamedTuple\n",
        "import logging\n",
        "import datetime\n",
        "import json\n",
        "from collections import namedtuple\n",
        "\n",
        "import kafka\n",
        "\n",
        "\n",
        "class RecordMetadata(NamedTuple):\n",
        "    topic: str\n",
        "    partition: int\n",
        "    offset: int\n",
        "\n",
        "\n",
        "\n",
        "def generate(n):\n",
        "\n",
        "    producer = kafka.KafkaProducer(\n",
        "        bootstrap_servers=bootstrap_server,\n",
        "        security_protocol=\"PLAINTEXT\",\n",
        "        # sasl_mechanism=\"SCRAM-SHA-512\",\n",
        "        # sasl_plain_username=user,\n",
        "        # sasl_plain_password=password,\n",
        "        # ssl_cafile=\"/usr/local/share/ca-certificates/Yandex/YandexInternalRootCA.crt\",\n",
        "        value_serializer=serialize,\n",
        "    )\n",
        "\n",
        "    try:\n",
        "        for i in range(n):\n",
        "            record_md = send_message(producer, topic)\n",
        "            print(\n",
        "                f\"Msg sent. Topic: {record_md.topic}, partition:{record_md.partition}, offset:{record_md.offset}\"\n",
        "            )\n",
        "    except kafka.errors.KafkaError as err:\n",
        "        logging.exception(err)\n",
        "    producer.flush()\n",
        "    producer.close()\n",
        "\n",
        "\n",
        "def send_message(producer: kafka.KafkaProducer, topic: str) -> RecordMetadata:\n",
        "    data = data_generator()\n",
        "    future = producer.send(\n",
        "        topic=topic,\n",
        "        key=str(np.random.randint(0, 2)).encode(\"ascii\"),\n",
        "        value=data,\n",
        "    )\n",
        "\n",
        "    # Block for 'synchronous' sends\n",
        "    record_metadata = future.get()\n",
        "    return RecordMetadata(\n",
        "        topic=record_metadata.topic,\n",
        "        partition=record_metadata.partition,\n",
        "        offset=record_metadata.offset,\n",
        "    )\n",
        "\n",
        "\n",
        "def data_generator():\n",
        "    a = np.random.normal(loc=1, scale=2)\n",
        "    b = np.random.normal(loc=-1, scale=2)\n",
        "    c = np.random.normal(loc=5, scale=2)\n",
        "    x1 = np.random.randint(-100, 100)\n",
        "    x2 = np.random.randint(-100, 100)\n",
        "    x3 = np.random.randint(-100, 100)\n",
        "    return {'X': [2 * (a + x1), 3 * (b + x2), x3], 'y': x1 + x2 + x3}\n",
        "\n",
        "\n",
        "def serialize(msg: Dict) -> bytes:\n",
        "    return json.dumps(msg).encode(\"utf-8\")\n"
      ],
      "metadata": {
        "id": "3PTQPNKFM2Px"
      },
      "execution_count": 3,
      "outputs": []
    },
    {
      "cell_type": "code",
      "source": [
        "generate(10)"
      ],
      "metadata": {
        "id": "kG5ZRc5dW5at",
        "colab": {
          "base_uri": "https://localhost:8080/"
        },
        "outputId": "d3ae0202-f404-4372-a50d-83788cfac71b"
      },
      "execution_count": 6,
      "outputs": [
        {
          "output_type": "stream",
          "name": "stdout",
          "text": [
            "Msg sent. Topic: train, partition:0, offset:30\n",
            "Msg sent. Topic: train, partition:0, offset:31\n",
            "Msg sent. Topic: train, partition:0, offset:32\n",
            "Msg sent. Topic: train, partition:0, offset:33\n",
            "Msg sent. Topic: train, partition:0, offset:34\n",
            "Msg sent. Topic: train, partition:0, offset:35\n",
            "Msg sent. Topic: train, partition:0, offset:36\n",
            "Msg sent. Topic: train, partition:0, offset:37\n",
            "Msg sent. Topic: train, partition:0, offset:38\n",
            "Msg sent. Topic: train, partition:0, offset:39\n"
          ]
        }
      ]
    }
  ]
}